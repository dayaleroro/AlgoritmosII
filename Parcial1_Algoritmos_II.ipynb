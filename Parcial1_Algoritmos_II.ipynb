{
  "nbformat": 4,
  "nbformat_minor": 0,
  "metadata": {
    "colab": {
      "provenance": [],
      "include_colab_link": true
    },
    "kernelspec": {
      "name": "python3",
      "display_name": "Python 3"
    },
    "language_info": {
      "name": "python"
    }
  },
  "cells": [
    {
      "cell_type": "markdown",
      "metadata": {
        "id": "view-in-github",
        "colab_type": "text"
      },
      "source": [
        "<a href=\"https://colab.research.google.com/github/dayaleroro/AlgoritmosII/blob/main/Parcial1_Algoritmos_II.ipynb\" target=\"_parent\"><img src=\"https://colab.research.google.com/assets/colab-badge.svg\" alt=\"Open In Colab\"/></a>"
      ]
    },
    {
      "cell_type": "markdown",
      "source": [
        "# Punto 1"
      ],
      "metadata": {
        "id": "PjLQuwQUCfIG"
      }
    },
    {
      "cell_type": "code",
      "source": [
        "class CocheDeCarreras:\n",
        "    def __init__(self):\n",
        "        self.nombre = \"Opichirilo\"\n",
        "        self.velocidad_maxima = 350\n",
        "        self.velocidad_actual = 0\n",
        "        self.combustible = 100\n",
        "\n",
        "    def acelerar(self, incremento):\n",
        "        if self.combustible <= 0:\n",
        "            print(\"Error: Sin combustible. No se puede acelerar.\")\n",
        "            return\n",
        "\n",
        "        nueva_velocidad = self.velocidad_actual + incremento\n",
        "        if nueva_velocidad > self.velocidad_maxima:\n",
        "            print(\"Error: El coche no puede superar su velocidad máxima de 350 km/h.\")\n",
        "            return\n",
        "\n",
        "        consumo = incremento // 10\n",
        "        if self.combustible - consumo < 0:\n",
        "            print(\"Error: Combustible insuficiente para acelerar.\")\n",
        "            return\n",
        "\n",
        "        self.combustible -= consumo\n",
        "        self.velocidad_actual = nueva_velocidad\n",
        "\n",
        "        if self.velocidad_actual > 0.9 * self.velocidad_maxima:\n",
        "            print(\"¡Cuidado! Velocidad peligrosa.\")\n",
        "\n",
        "    def frenar(self, decremento):\n",
        "        if decremento <= 0:\n",
        "            print(\"Error: No se puede frenar con un valor de 0 o negativo.\")\n",
        "            return\n",
        "\n",
        "        self.velocidad_actual = max(self.velocidad_actual - decremento, 0)\n",
        "\n",
        "        if self.velocidad_actual == 0:\n",
        "            print(\"El coche ya está detenido.\")\n",
        "\n",
        "    def repostar(self, cantidad):\n",
        "        self.combustible = min(self.combustible + cantidad, 100)\n",
        "\n",
        "    def estado(self):\n",
        "        print(f\"Coche: {self.nombre}, Velocidad: {self.velocidad_actual} km/h, Combustible: {self.combustible}%\")\n",
        "\n",
        "# Interacción usuario\n",
        "if __name__ == \"__main__\":\n",
        "    coche = CocheDeCarreras()\n",
        "\n",
        "    while True:\n",
        "        print(\"\\nOpciones:\")\n",
        "        print(\"1. Acelerar\")\n",
        "        print(\"2. Frenar\")\n",
        "        print(\"3. Repostar\")\n",
        "        print(\"4. Mostrar estado\")\n",
        "        print(\"5. Salir\")\n",
        "\n",
        "        opcion = input(\"Seleccione una opción: \")\n",
        "\n",
        "        if opcion == \"1\":\n",
        "            incremento = int(input(\"Ingresa la cantidad a acelerar (km/h): \"))\n",
        "            coche.acelerar(incremento)\n",
        "        elif opcion == \"2\":\n",
        "            decremento = int(input(\"Ingresa la cantidad a frenar (km/h): \"))\n",
        "            coche.frenar(decremento)\n",
        "        elif opcion == \"3\":\n",
        "            cantidad = int(input(\"Ingresa la cantidad de combustible a reponer: \"))\n",
        "            coche.repostar(cantidad)\n",
        "        elif opcion == \"4\":\n",
        "            coche.estado()\n",
        "        elif opcion == \"5\":\n",
        "            print(\"Estas saliendo del programa\")\n",
        "            break\n",
        "        else:\n",
        "            print(\"Opción no válida. Intente de nuevo.\")"
      ],
      "metadata": {
        "colab": {
          "base_uri": "https://localhost:8080/"
        },
        "id": "m9j6_aNlCokc",
        "outputId": "ad63daac-d134-4a90-efd5-cafb54427820"
      },
      "execution_count": 1,
      "outputs": [
        {
          "output_type": "stream",
          "name": "stdout",
          "text": [
            "\n",
            "Opciones:\n",
            "1. Acelerar\n",
            "2. Frenar\n",
            "3. Repostar\n",
            "4. Mostrar estado\n",
            "5. Salir\n",
            "Seleccione una opción: 1\n",
            "Ingresa la cantidad a acelerar (km/h): 450\n",
            "Error: El coche no puede superar su velocidad máxima de 350 km/h.\n",
            "\n",
            "Opciones:\n",
            "1. Acelerar\n",
            "2. Frenar\n",
            "3. Repostar\n",
            "4. Mostrar estado\n",
            "5. Salir\n",
            "Seleccione una opción: 4\n",
            "Coche: Opichirilo, Velocidad: 0 km/h, Combustible: 100%\n",
            "\n",
            "Opciones:\n",
            "1. Acelerar\n",
            "2. Frenar\n",
            "3. Repostar\n",
            "4. Mostrar estado\n",
            "5. Salir\n",
            "Seleccione una opción: 1\n",
            "Ingresa la cantidad a acelerar (km/h): 350\n",
            "¡Cuidado! Velocidad peligrosa.\n",
            "\n",
            "Opciones:\n",
            "1. Acelerar\n",
            "2. Frenar\n",
            "3. Repostar\n",
            "4. Mostrar estado\n",
            "5. Salir\n",
            "Seleccione una opción: 2\n",
            "Ingresa la cantidad a frenar (km/h): 0\n",
            "Error: No se puede frenar con un valor de 0 o negativo.\n",
            "\n",
            "Opciones:\n",
            "1. Acelerar\n",
            "2. Frenar\n",
            "3. Repostar\n",
            "4. Mostrar estado\n",
            "5. Salir\n",
            "Seleccione una opción: 2\n",
            "Ingresa la cantidad a frenar (km/h): 350\n",
            "El coche ya está detenido.\n",
            "\n",
            "Opciones:\n",
            "1. Acelerar\n",
            "2. Frenar\n",
            "3. Repostar\n",
            "4. Mostrar estado\n",
            "5. Salir\n",
            "Seleccione una opción: 1\n",
            "Ingresa la cantidad a acelerar (km/h): 350\n",
            "¡Cuidado! Velocidad peligrosa.\n",
            "\n",
            "Opciones:\n",
            "1. Acelerar\n",
            "2. Frenar\n",
            "3. Repostar\n",
            "4. Mostrar estado\n",
            "5. Salir\n",
            "Seleccione una opción: 4\n",
            "Coche: Opichirilo, Velocidad: 350 km/h, Combustible: 30%\n",
            "\n",
            "Opciones:\n",
            "1. Acelerar\n",
            "2. Frenar\n",
            "3. Repostar\n",
            "4. Mostrar estado\n",
            "5. Salir\n",
            "Seleccione una opción: 5\n",
            "Estas saliendo del programa\n"
          ]
        }
      ]
    },
    {
      "cell_type": "markdown",
      "source": [
        "# Punto 2"
      ],
      "metadata": {
        "id": "lNKro8je_NyC"
      }
    },
    {
      "cell_type": "code",
      "source": [
        "class Robot:\n",
        "    def __init__(self, nombre):\n",
        "        self.nombre = nombre\n",
        "        self.bateria = 100\n",
        "        self.posicion = (0, 0)\n",
        "\n",
        "# Método para mover robot\n",
        "\n",
        "    def mover(self, direccion, distancia):\n",
        "\n",
        "        if self.bateria == 0:\n",
        "            print(\"Batería agotada. El robot ndebe ser cargado.\")\n",
        "            return\n",
        "\n",
        "        if direccion not in [\"arriba\", \"abajo\", \"izquierda\", \"derecha\"]:\n",
        "            raise ValueError(\"Dirección no permitida. Debes seleccionar entre: 'arriba', 'abajo', 'izquierda' o 'derecha'.\")\n",
        "\n",
        "        costo_bateria = distancia\n",
        "\n",
        "        if self.bateria < costo_bateria:\n",
        "\n",
        "            print(\"Batería insuficiente para realizar el movimiento.\")\n",
        "\n",
        "            return\n",
        "\n",
        "        x, y = self.posicion\n",
        "\n",
        "        if direccion == \"arriba\":\n",
        "\n",
        "            nueva_posicion = (x, y + distancia)\n",
        "\n",
        "        elif direccion == \"abajo\":\n",
        "\n",
        "            nueva_posicion = (x, y - distancia)\n",
        "\n",
        "        elif direccion == \"izquierda\":\n",
        "\n",
        "            nueva_posicion = (x - distancia, y)\n",
        "\n",
        "        elif direccion == \"derecha\":\n",
        "\n",
        "            nueva_posicion = (x + distancia, y)\n",
        "\n",
        "        if nueva_posicion[0] < 0 or nueva_posicion[1] < 0:\n",
        "            print(\"El robot no puede moverse a posiciones negativas.\")\n",
        "            return\n",
        "\n",
        "        self.posicion = nueva_posicion\n",
        "        self.bateria -= costo_bateria\n",
        "\n",
        "# Método para cargar batería\n",
        "\n",
        "    def cargar_bateria(self, cantidad):\n",
        "\n",
        "        self.bateria = min(100, self.bateria + cantidad)\n",
        "\n",
        "# Método para disparar\n",
        "\n",
        "    def disparar(self):\n",
        "\n",
        "        if self.bateria < 5:\n",
        "            print(\"Batería insuficiente para hacer el disparo, favor cargar la batería mínimo a 5%.\")\n",
        "            return\n",
        "\n",
        "        if self.bateria == 0:\n",
        "\n",
        "            print(\"Batería agotada\")\n",
        "            return\n",
        "\n",
        "        self.bateria -= 5\n",
        "\n",
        "# Método para mostrar los atributos del robot\n",
        "\n",
        "    def estado(self):\n",
        "\n",
        "        print(f\"Nombre: {self.nombre}\")\n",
        "        print(f\"Posición: {self.posicion}\")\n",
        "        print(f\"Batería: {self.bateria}%\")"
      ],
      "metadata": {
        "id": "eXEF8TCs_bwW"
      },
      "execution_count": 3,
      "outputs": []
    },
    {
      "cell_type": "code",
      "source": [
        "robot = Robot(\"C3PO\")\n",
        "robot.estado()\n",
        "robot.mover(\"arriba\", 5)\n",
        "robot.estado()\n",
        "robot.disparar()\n",
        "robot.estado()\n",
        "robot.cargar_bateria(20)\n",
        "robot.estado()\n"
      ],
      "metadata": {
        "colab": {
          "base_uri": "https://localhost:8080/"
        },
        "id": "2lhCnbZPA027",
        "outputId": "530f3614-9f76-4590-a182-19b50f4f545f"
      },
      "execution_count": 4,
      "outputs": [
        {
          "output_type": "stream",
          "name": "stdout",
          "text": [
            "Nombre: C3PO\n",
            "Posición: (0, 0)\n",
            "Batería: 100%\n",
            "Nombre: C3PO\n",
            "Posición: (0, 5)\n",
            "Batería: 95%\n",
            "Nombre: C3PO\n",
            "Posición: (0, 5)\n",
            "Batería: 90%\n",
            "Nombre: C3PO\n",
            "Posición: (0, 5)\n",
            "Batería: 100%\n"
          ]
        }
      ]
    },
    {
      "cell_type": "code",
      "source": [
        "# Intentar mover a posición negativa\n",
        "robot.mover(\"abajo\", 10)\n",
        "robot.estado()"
      ],
      "metadata": {
        "colab": {
          "base_uri": "https://localhost:8080/"
        },
        "id": "FO0mh6ejBDlF",
        "outputId": "00e916df-521c-4f07-8ff7-8f999c3482a7"
      },
      "execution_count": 5,
      "outputs": [
        {
          "output_type": "stream",
          "name": "stdout",
          "text": [
            "El robot no puede moverse a posiciones negativas.\n",
            "Nombre: C3PO\n",
            "Posición: (0, 5)\n",
            "Batería: 100%\n"
          ]
        }
      ]
    },
    {
      "cell_type": "markdown",
      "source": [
        "# Punto 3"
      ],
      "metadata": {
        "id": "ZnnptZl4_J92"
      }
    },
    {
      "cell_type": "code",
      "execution_count": 6,
      "metadata": {
        "id": "t98P0o9F4JGc"
      },
      "outputs": [],
      "source": [
        "# Importamos librería random para la mezcla de cartas\n",
        "import random"
      ]
    },
    {
      "cell_type": "code",
      "source": [
        "class NoHaySuficientesCartasError(Exception):\n",
        "    \"\"\"Excepción personalizada para cuando no hay suficientes cartas en el mazo.\"\"\"\n",
        "    pass\n",
        "\n",
        "class juego_cartas:\n",
        "  def __init__(self):\n",
        "    self.mazo = []\n",
        "    self.jugadores = {}\n",
        "\n",
        "  #Método para añadir cartas\n",
        "\n",
        "  def add_card (self,palo,valor):\n",
        "\n",
        "    self.mazo.append ((palo,valor))\n",
        "\n",
        "    print(f\"Nuevo mazo {self.mazo}\")\n",
        "\n",
        "  # Método para repartir cartas a los jugadores\n",
        "\n",
        "  def repartir_cartas (self,jugador,cantidad):\n",
        "\n",
        "    if len(self.mazo) < cantidad:\n",
        "\n",
        "      print (\"No hay suficientes cartas en el mazo\")\n",
        "\n",
        "    if jugador not in self.jugadores:\n",
        "\n",
        "      self.jugadores [jugador] = []\n",
        "\n",
        "    for _ in range(cantidad):\n",
        "      carta = self.mazo.pop()\n",
        "      self.jugadores[jugador].append(carta)\n",
        "\n",
        "  # Método para mostrat mano de un jugador\n",
        "\n",
        "  def mostrar_mano(self, jugador):\n",
        "\n",
        "      if jugador not in self.jugadores:\n",
        "        print(f\"{jugador} no existe.\")\n",
        "        return\n",
        "      else:\n",
        "        print(f\"Mano de {jugador}: {self.jugadores[jugador]}\")\n",
        "\n",
        "  # Método para mezclar las cartas\n",
        "\n",
        "  def mezclar_mazo(self):\n",
        "\n",
        "    random.shuffle(self.mazo)\n",
        "    print(f\"Nuevo mazo: {self.mazo}\")\n"
      ],
      "metadata": {
        "id": "WmKnM9CA4Kz0"
      },
      "execution_count": 7,
      "outputs": []
    },
    {
      "cell_type": "code",
      "source": [
        "# Ejemplo de uso\n",
        "juego = juego_cartas()\n",
        "\n",
        "# Agregar cartas al mazo\n",
        "juego.add_card (\"Trebol\", \"As\")\n",
        "juego.add_card (\"Trebol\", \"dos\")\n",
        "juego.add_card (\"Trebol\", \"tres\")\n",
        "juego.add_card (\"Trebol\", \"cuatro\")\n",
        "juego.add_card (\"Pica\", \"As\")\n",
        "juego.add_card (\"Pica\", \"dos\")\n",
        "juego.add_card (\"Pica\", \"tres\")\n",
        "juego.add_card (\"Pica\", \"cuatro\")\n",
        "juego.add_card (\"Corazon\", \"As\")\n",
        "juego.add_card (\"Corazon\", \"dos\")\n",
        "juego.add_card (\"Corazon\", \"tres\")\n",
        "juego.add_card (\"Corazon\", \"cuatro\")\n",
        "juego.add_card (\"Diamante\", \"As\")\n",
        "juego.add_card (\"Diamante\", \"dos\")\n",
        "juego.add_card (\"Diamante\", \"tres\")\n",
        "juego.add_card (\"Diamante\", \"cuatro\")\n",
        "# Mezclar el mazo\n",
        "juego.mezclar_mazo()\n"
      ],
      "metadata": {
        "colab": {
          "base_uri": "https://localhost:8080/"
        },
        "id": "cCvFto9j7_7G",
        "outputId": "e7e4c8c7-713c-4861-ea6b-022af45296f4"
      },
      "execution_count": 8,
      "outputs": [
        {
          "output_type": "stream",
          "name": "stdout",
          "text": [
            "Nuevo mazo [('Trebol', 'As')]\n",
            "Nuevo mazo [('Trebol', 'As'), ('Trebol', 'dos')]\n",
            "Nuevo mazo [('Trebol', 'As'), ('Trebol', 'dos'), ('Trebol', 'tres')]\n",
            "Nuevo mazo [('Trebol', 'As'), ('Trebol', 'dos'), ('Trebol', 'tres'), ('Trebol', 'cuatro')]\n",
            "Nuevo mazo [('Trebol', 'As'), ('Trebol', 'dos'), ('Trebol', 'tres'), ('Trebol', 'cuatro'), ('Pica', 'As')]\n",
            "Nuevo mazo [('Trebol', 'As'), ('Trebol', 'dos'), ('Trebol', 'tres'), ('Trebol', 'cuatro'), ('Pica', 'As'), ('Pica', 'dos')]\n",
            "Nuevo mazo [('Trebol', 'As'), ('Trebol', 'dos'), ('Trebol', 'tres'), ('Trebol', 'cuatro'), ('Pica', 'As'), ('Pica', 'dos'), ('Pica', 'tres')]\n",
            "Nuevo mazo [('Trebol', 'As'), ('Trebol', 'dos'), ('Trebol', 'tres'), ('Trebol', 'cuatro'), ('Pica', 'As'), ('Pica', 'dos'), ('Pica', 'tres'), ('Pica', 'cuatro')]\n",
            "Nuevo mazo [('Trebol', 'As'), ('Trebol', 'dos'), ('Trebol', 'tres'), ('Trebol', 'cuatro'), ('Pica', 'As'), ('Pica', 'dos'), ('Pica', 'tres'), ('Pica', 'cuatro'), ('Corazon', 'As')]\n",
            "Nuevo mazo [('Trebol', 'As'), ('Trebol', 'dos'), ('Trebol', 'tres'), ('Trebol', 'cuatro'), ('Pica', 'As'), ('Pica', 'dos'), ('Pica', 'tres'), ('Pica', 'cuatro'), ('Corazon', 'As'), ('Corazon', 'dos')]\n",
            "Nuevo mazo [('Trebol', 'As'), ('Trebol', 'dos'), ('Trebol', 'tres'), ('Trebol', 'cuatro'), ('Pica', 'As'), ('Pica', 'dos'), ('Pica', 'tres'), ('Pica', 'cuatro'), ('Corazon', 'As'), ('Corazon', 'dos'), ('Corazon', 'tres')]\n",
            "Nuevo mazo [('Trebol', 'As'), ('Trebol', 'dos'), ('Trebol', 'tres'), ('Trebol', 'cuatro'), ('Pica', 'As'), ('Pica', 'dos'), ('Pica', 'tres'), ('Pica', 'cuatro'), ('Corazon', 'As'), ('Corazon', 'dos'), ('Corazon', 'tres'), ('Corazon', 'cuatro')]\n",
            "Nuevo mazo [('Trebol', 'As'), ('Trebol', 'dos'), ('Trebol', 'tres'), ('Trebol', 'cuatro'), ('Pica', 'As'), ('Pica', 'dos'), ('Pica', 'tres'), ('Pica', 'cuatro'), ('Corazon', 'As'), ('Corazon', 'dos'), ('Corazon', 'tres'), ('Corazon', 'cuatro'), ('Diamante', 'As')]\n",
            "Nuevo mazo [('Trebol', 'As'), ('Trebol', 'dos'), ('Trebol', 'tres'), ('Trebol', 'cuatro'), ('Pica', 'As'), ('Pica', 'dos'), ('Pica', 'tres'), ('Pica', 'cuatro'), ('Corazon', 'As'), ('Corazon', 'dos'), ('Corazon', 'tres'), ('Corazon', 'cuatro'), ('Diamante', 'As'), ('Diamante', 'dos')]\n",
            "Nuevo mazo [('Trebol', 'As'), ('Trebol', 'dos'), ('Trebol', 'tres'), ('Trebol', 'cuatro'), ('Pica', 'As'), ('Pica', 'dos'), ('Pica', 'tres'), ('Pica', 'cuatro'), ('Corazon', 'As'), ('Corazon', 'dos'), ('Corazon', 'tres'), ('Corazon', 'cuatro'), ('Diamante', 'As'), ('Diamante', 'dos'), ('Diamante', 'tres')]\n",
            "Nuevo mazo [('Trebol', 'As'), ('Trebol', 'dos'), ('Trebol', 'tres'), ('Trebol', 'cuatro'), ('Pica', 'As'), ('Pica', 'dos'), ('Pica', 'tres'), ('Pica', 'cuatro'), ('Corazon', 'As'), ('Corazon', 'dos'), ('Corazon', 'tres'), ('Corazon', 'cuatro'), ('Diamante', 'As'), ('Diamante', 'dos'), ('Diamante', 'tres'), ('Diamante', 'cuatro')]\n",
            "Nuevo mazo: [('Trebol', 'dos'), ('Diamante', 'As'), ('Pica', 'cuatro'), ('Corazon', 'As'), ('Pica', 'tres'), ('Diamante', 'tres'), ('Trebol', 'cuatro'), ('Corazon', 'dos'), ('Trebol', 'tres'), ('Pica', 'dos'), ('Diamante', 'cuatro'), ('Diamante', 'dos'), ('Trebol', 'As'), ('Pica', 'As'), ('Corazon', 'cuatro'), ('Corazon', 'tres')]\n"
          ]
        }
      ]
    },
    {
      "cell_type": "code",
      "source": [
        "# Repartir cartas a jugadores\n",
        "try:\n",
        "  juego.repartir_cartas(\"Jugador 1\", 3)\n",
        "  juego.repartir_cartas(\"Jugador 2\", 3)\n",
        "except NoHaySuficientesCartasError as e:\n",
        "  print(e)\n",
        "\n",
        "# Mostrar manos de los jugadores\n",
        "juego.mostrar_mano(\"Jugador 1\")\n",
        "juego.mostrar_mano(\"Jugador 2\")\n",
        "\n"
      ],
      "metadata": {
        "colab": {
          "base_uri": "https://localhost:8080/"
        },
        "id": "UEOfkoFf8Bs6",
        "outputId": "7059d502-cfd9-4be4-bfeb-c46e7e13191f"
      },
      "execution_count": 9,
      "outputs": [
        {
          "output_type": "stream",
          "name": "stdout",
          "text": [
            "Mano de Jugador 1: [('Corazon', 'tres'), ('Corazon', 'cuatro'), ('Pica', 'As')]\n",
            "Mano de Jugador 2: [('Trebol', 'As'), ('Diamante', 'dos'), ('Diamante', 'cuatro')]\n"
          ]
        }
      ]
    },
    {
      "cell_type": "code",
      "source": [
        "# Intentar repartir más cartas de las disponibles\n",
        "try:\n",
        "    juego.repartir_cartas(\"Jugador 3\", 10)\n",
        "except NoHaySuficientesCartasError as e:\n",
        "    print(e)"
      ],
      "metadata": {
        "colab": {
          "base_uri": "https://localhost:8080/",
          "height": 349
        },
        "id": "9MWH2A9e9-Q9",
        "outputId": "bbd5b666-d8b6-4161-88bd-ee4eaf100e76"
      },
      "execution_count": 12,
      "outputs": [
        {
          "output_type": "stream",
          "name": "stdout",
          "text": [
            "No hay suficientes cartas en el mazo\n"
          ]
        },
        {
          "output_type": "error",
          "ename": "IndexError",
          "evalue": "pop from empty list",
          "traceback": [
            "\u001b[0;31m---------------------------------------------------------------------------\u001b[0m",
            "\u001b[0;31mIndexError\u001b[0m                                Traceback (most recent call last)",
            "\u001b[0;32m<ipython-input-12-e87c0085c135>\u001b[0m in \u001b[0;36m<cell line: 0>\u001b[0;34m()\u001b[0m\n\u001b[1;32m      1\u001b[0m \u001b[0;31m# Intentar repartir más cartas de las disponibles\u001b[0m\u001b[0;34m\u001b[0m\u001b[0;34m\u001b[0m\u001b[0m\n\u001b[1;32m      2\u001b[0m \u001b[0;32mtry\u001b[0m\u001b[0;34m:\u001b[0m\u001b[0;34m\u001b[0m\u001b[0;34m\u001b[0m\u001b[0m\n\u001b[0;32m----> 3\u001b[0;31m     \u001b[0mjuego\u001b[0m\u001b[0;34m.\u001b[0m\u001b[0mrepartir_cartas\u001b[0m\u001b[0;34m(\u001b[0m\u001b[0;34m\"Jugador 3\"\u001b[0m\u001b[0;34m,\u001b[0m \u001b[0;36m10\u001b[0m\u001b[0;34m)\u001b[0m\u001b[0;34m\u001b[0m\u001b[0;34m\u001b[0m\u001b[0m\n\u001b[0m\u001b[1;32m      4\u001b[0m \u001b[0;32mexcept\u001b[0m \u001b[0mNoHaySuficientesCartasError\u001b[0m \u001b[0;32mas\u001b[0m \u001b[0me\u001b[0m\u001b[0;34m:\u001b[0m\u001b[0;34m\u001b[0m\u001b[0;34m\u001b[0m\u001b[0m\n\u001b[1;32m      5\u001b[0m     \u001b[0mprint\u001b[0m\u001b[0;34m(\u001b[0m\u001b[0me\u001b[0m\u001b[0;34m)\u001b[0m\u001b[0;34m\u001b[0m\u001b[0;34m\u001b[0m\u001b[0m\n",
            "\u001b[0;32m<ipython-input-7-3d35b5a708ec>\u001b[0m in \u001b[0;36mrepartir_cartas\u001b[0;34m(self, jugador, cantidad)\u001b[0m\n\u001b[1;32m     29\u001b[0m \u001b[0;34m\u001b[0m\u001b[0m\n\u001b[1;32m     30\u001b[0m     \u001b[0;32mfor\u001b[0m \u001b[0m_\u001b[0m \u001b[0;32min\u001b[0m \u001b[0mrange\u001b[0m\u001b[0;34m(\u001b[0m\u001b[0mcantidad\u001b[0m\u001b[0;34m)\u001b[0m\u001b[0;34m:\u001b[0m\u001b[0;34m\u001b[0m\u001b[0;34m\u001b[0m\u001b[0m\n\u001b[0;32m---> 31\u001b[0;31m       \u001b[0mcarta\u001b[0m \u001b[0;34m=\u001b[0m \u001b[0mself\u001b[0m\u001b[0;34m.\u001b[0m\u001b[0mmazo\u001b[0m\u001b[0;34m.\u001b[0m\u001b[0mpop\u001b[0m\u001b[0;34m(\u001b[0m\u001b[0;34m)\u001b[0m\u001b[0;34m\u001b[0m\u001b[0;34m\u001b[0m\u001b[0m\n\u001b[0m\u001b[1;32m     32\u001b[0m       \u001b[0mself\u001b[0m\u001b[0;34m.\u001b[0m\u001b[0mjugadores\u001b[0m\u001b[0;34m[\u001b[0m\u001b[0mjugador\u001b[0m\u001b[0;34m]\u001b[0m\u001b[0;34m.\u001b[0m\u001b[0mappend\u001b[0m\u001b[0;34m(\u001b[0m\u001b[0mcarta\u001b[0m\u001b[0;34m)\u001b[0m\u001b[0;34m\u001b[0m\u001b[0;34m\u001b[0m\u001b[0m\n\u001b[1;32m     33\u001b[0m \u001b[0;34m\u001b[0m\u001b[0m\n",
            "\u001b[0;31mIndexError\u001b[0m: pop from empty list"
          ]
        }
      ]
    }
  ]
}